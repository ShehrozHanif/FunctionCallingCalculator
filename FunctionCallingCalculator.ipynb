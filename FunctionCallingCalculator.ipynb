{
  "nbformat": 4,
  "nbformat_minor": 0,
  "metadata": {
    "colab": {
      "provenance": []
    },
    "kernelspec": {
      "name": "python3",
      "display_name": "Python 3"
    },
    "language_info": {
      "name": "python"
    }
  },
  "cells": [
    {
      "cell_type": "markdown",
      "source": [
        "# **Step 1**"
      ],
      "metadata": {
        "id": "AXIuQXrxo7aa"
      }
    },
    {
      "cell_type": "code",
      "execution_count": null,
      "metadata": {
        "id": "NDMg9H5f547-"
      },
      "outputs": [],
      "source": [
        "!pip install -q -U langchain langchain_community langchain_google_genai\n"
      ]
    },
    {
      "cell_type": "markdown",
      "source": [
        "**🔹 what does this do?**\n",
        "\n",
        "This command installs three essential libraries:\n",
        "\n",
        "* langchain → A framework for building applications using\n",
        "  LLMs (Large Language Models).\n",
        "* langchain_community → Community-contributed tools and\n",
        "  integrations.\n",
        "* langchain_google_genai → Allows us to use Google's Gemini\n",
        "  models in LangChain."
      ],
      "metadata": {
        "id": "6rTIQrusorR0"
      }
    },
    {
      "cell_type": "markdown",
      "source": [
        "# **Step 2**"
      ],
      "metadata": {
        "id": "rKEAbt-4pEwu"
      }
    },
    {
      "cell_type": "code",
      "source": [
        "from google.colab import userdata\n",
        "import os\n",
        "\n",
        "os.environ['GOOGLE_API_KEY'] = userdata.get('GOOGLE_API_KEY')\n"
      ],
      "metadata": {
        "id": "5muFXVr96AQY"
      },
      "execution_count": null,
      "outputs": []
    },
    {
      "cell_type": "markdown",
      "source": [
        "**🔹 What does this do?**\n",
        "\n",
        "* userdata.get('GOOGLE_API_KEY') → Retrieves your Google API key from Colab's userdata.\n",
        "* os.environ['GOOGLE_API_KEY'] = ... → Stores the API key as an environment variable so the LangChain model can use it.\n",
        "\n"
      ],
      "metadata": {
        "id": "lrYpUxgMqGKF"
      }
    },
    {
      "cell_type": "markdown",
      "source": [
        "# **Step 3**"
      ],
      "metadata": {
        "id": "ca1xvq_opIuV"
      }
    },
    {
      "cell_type": "code",
      "source": [
        "from langchain_google_genai import ChatGoogleGenerativeAI\n",
        "\n",
        "llm=ChatGoogleGenerativeAI(model=\"gemini-2.0-flash-exp\",verbose=True)\n",
        "\n",
        "llm.invoke(\"Who is Shehroz?\").content"
      ],
      "metadata": {
        "colab": {
          "base_uri": "https://localhost:8080/",
          "height": 175
        },
        "id": "uB6Mc4Pt6XoT",
        "outputId": "867e5123-bed6-4183-96d8-98c5a1dc111f"
      },
      "execution_count": null,
      "outputs": [
        {
          "output_type": "execute_result",
          "data": {
            "text/plain": [
              "'Shehroz is a fairly common Pakistani and South Asian name, so without more context, it\\'s difficult to know exactly who you\\'re referring to. Here\\'s what I can tell you:\\n\\n* **It\\'s a Male Given Name:** Shehroz is a masculine given name, often used in Pakistan and surrounding regions.\\n* **Meaning:** The name Shehroz is often associated with \"king\" or \"royal,\" having Persian origins.\\n* **Commonality:** Due to its commonality, there are likely many individuals named Shehroz.\\n\\n**To help me understand who you might be thinking of, could you provide more information? For example, are you thinking of:**\\n\\n* **A specific person you know:** Do you know their last name, where they live, or what they do?\\n* **Someone in the news or on social media:** Do you have any more details about them (e.g., a profession, a social media handle)?\\n* **A fictional character:** Is Shehroz a character in a book, movie, or TV show?\\n\\nThe more context you give me, the better I can help you identify the specific Shehroz you\\'re looking for.'"
            ],
            "application/vnd.google.colaboratory.intrinsic+json": {
              "type": "string"
            }
          },
          "metadata": {},
          "execution_count": 40
        }
      ]
    },
    {
      "cell_type": "markdown",
      "source": [
        "**🔹 What does this do?**\n",
        "\n",
        "* ChatGoogleGenerativeAI → Creates a chatbot using Google's Gemini model.\n",
        "* model=\"gemini-2.0-flash-exp\" → Specifies the model version.\n",
        "* verbose=True → Enables logging to see more details.\n",
        "* llm.invoke(\"Who is Shehroz?\").content → Asks the model a\n",
        "  question and gets a response."
      ],
      "metadata": {
        "id": "PxK1xSOmqbkR"
      }
    },
    {
      "cell_type": "markdown",
      "source": [
        "# **Step 4**"
      ],
      "metadata": {
        "id": "Ql71LoKipL8_"
      }
    },
    {
      "cell_type": "code",
      "source": [
        "from langchain.tools import Tool\n",
        "from langchain_core.tools import tool\n"
      ],
      "metadata": {
        "id": "I5_-m_BV6wCM"
      },
      "execution_count": null,
      "outputs": []
    },
    {
      "cell_type": "markdown",
      "source": [
        "**🔹 What does this do?**\n",
        "\n",
        "Tool and tool → Allow us to create custom functions (tools) that the AI can call when needed."
      ],
      "metadata": {
        "id": "5HxOkWwfqkgr"
      }
    },
    {
      "cell_type": "markdown",
      "source": [
        "# **Step 5**"
      ],
      "metadata": {
        "id": "hBCMgcDrpPM-"
      }
    },
    {
      "cell_type": "code",
      "source": [
        "@tool\n",
        "def add(a: int, b: int) -> int:\n",
        "    \"\"\"Add two integers.\"\"\"\n",
        "    print(\"Tool Message:  Addition Tool is Called!\")\n",
        "    print(\"=\"*40)\n",
        "    return a + b\n",
        "@tool\n",
        "def subtract(a: int, b: int) -> int:\n",
        "    \"\"\"Subtract two integers.\"\"\"\n",
        "    print(\"Tool Message:  Subtraction Tool is Called!\")\n",
        "    print(\"=\"*40)\n",
        "    return a - b\n",
        "@tool\n",
        "def multiply(a: int, b: int) -> int:\n",
        "    \"\"\"Multiply two integers.\"\"\"\n",
        "    print(\"Tool Message:  Multiplication Tool is Called!\")\n",
        "    print(\"=\"*40)\n",
        "    return a * b\n",
        "@tool\n",
        "def divide(a: int, b: int) -> float:\n",
        "    \"\"\"Divide two integers.\"\"\"\n",
        "    print(\"Tool Message:  Division Tool is Called!\")\n",
        "    print(\"=\"*40)\n",
        "    if b == 0:\n",
        "        return \"Error: Division by zero is not allowed.\"\n",
        "    return a / b\n",
        "\n",
        "@tool\n",
        "def intro(input_str: str = \"\") -> str:\n",
        "    \"\"\"Provide Shehroz Hanif introduction.\"\"\"\n",
        "    print(\"Tool Message:  Introduction Tool is Called!\")\n",
        "    print(\"=\"*40)\n",
        "    return (\n",
        "        \"\"\"Shehroz Hanif is a skilled web developer and programmer with a passion for creating dynamic, user-focused projects.\n",
        "        Here is His Linkedin Profile: https://www.linkedin.com/in/shehroz-hanif-60441727a/\n",
        "        His portfolio features innovative Python projects and AI solutions, including a chatbot built with LangChain and Google Gemini LLM.\n",
        "        He is exploring Agentic AI and intelligent agents, driving advancements in automation and artificial intelligence.\"\"\"\n",
        "    )\n",
        "@tool\n",
        "def creator(input_str: str = \"\") -> str:\n",
        "    \"\"\"Provide Shehroz Hanif introduction.\"\"\"\n",
        "    print(\"Tool Message:  Developer Detailes Tool is Called!\")\n",
        "    print(\"=\"*40)\n",
        "    return (\n",
        "        \"\"\"I am a Calculator Agent Developed By Shehroz Hanif.\n",
        "        If You Want to know About Hasnain Ali Then Type Who Is Shehroz Hanif\n",
        "    \"\"\"\n",
        "    )\n",
        "\n",
        "@tool\n",
        "def goodbye(input_str: str = \"\") -> str:\n",
        "    \"\"\"Stop the Agent.\"\"\"\n",
        "    print(\"Tool Message:  Good Bye Tool is Called!\")\n",
        "    print(\"=\"*40)\n",
        "    return\n",
        "    print(\"Goodbye! Thanks for your visit. Come again...\")\n",
        "\n",
        "@tool\n",
        "def give_social_accounts(input_str: str = \"\") -> str:\n",
        "    \"\"\"Provide Shehroz Hanif social accounts.\"\"\"\n",
        "    print(\"Tool Message:  Contact Detailes Tool is Called!\")\n",
        "    print(\"=\"*40)\n",
        "    return (\n",
        "        \"\"\"\n",
        "        Hasnain's Linkedin: https://www.linkedin.com/in/shehroz-hanif-60441727a/\n",
        "        Hasnain's Github: https://github.com/ShehrozHanif\n",
        "        Hasnain's Instagram: https://www.instagram.com/the.realshehroz/\n",
        "        Hasnain's Facebook Profile: https://www.facebook.com/muhammad.shehroz.357284\n",
        "        Hasnain's Email Address: Shehrozhanif18@gmail.com\n",
        "        Hasnain's Contact Number: 03062151026\n",
        "        \"\"\"\n",
        "    )\n"
      ],
      "metadata": {
        "id": "pBmAhSF_6xZh"
      },
      "execution_count": null,
      "outputs": []
    },
    {
      "cell_type": "markdown",
      "source": [
        "**🔹 What does this do?**\n",
        "\n",
        "* Defines a function that adds two numbers.\n",
        "* Uses @tool decorator, which makes the function accessible  \n",
        "  to the AI.\n",
        "* Prints a message when the tool is called."
      ],
      "metadata": {
        "id": "9hLdETvIrmw_"
      }
    },
    {
      "cell_type": "markdown",
      "source": [
        "# **Step 6**"
      ],
      "metadata": {
        "id": "YjkkAlm6pSLh"
      }
    },
    {
      "cell_type": "code",
      "source": [
        "tools = [\n",
        "    add,\n",
        "    subtract,\n",
        "    multiply,\n",
        "    divide,\n",
        "    intro,\n",
        "    creator,\n",
        "    goodbye,\n",
        "    give_social_accounts\n",
        "]\n"
      ],
      "metadata": {
        "id": "6-aUV07n7QFE"
      },
      "execution_count": null,
      "outputs": []
    },
    {
      "cell_type": "markdown",
      "source": [
        "🔹 **What does this do?**\n",
        "\n",
        "* Groups all the custom tools into a list.\n",
        "* Later, we will pass this list to the AI agent so it knows what functions it can use."
      ],
      "metadata": {
        "id": "bgU29Nu-r1iw"
      }
    },
    {
      "cell_type": "markdown",
      "source": [
        "# **Step 7**"
      ],
      "metadata": {
        "id": "bNghcpHDpVx6"
      }
    },
    {
      "cell_type": "code",
      "source": [
        "from langchain.agents import initialize_agent, AgentType\n",
        "\n",
        "# Initialize the agent\n",
        "agent = initialize_agent(\n",
        "    tools,                        # Provide the tools\n",
        "    llm,                            # LLM for fallback\n",
        "    agent=AgentType.STRUCTURED_CHAT_ZERO_SHOT_REACT_DESCRIPTION,\n",
        "    max_iterations=50,\n",
        "    # verbose=True                        # Enable debugging output\n",
        ")\n"
      ],
      "metadata": {
        "id": "WJhDZ8JQ7n58"
      },
      "execution_count": null,
      "outputs": []
    },
    {
      "cell_type": "markdown",
      "source": [
        "🔹 **What does this do?**\n",
        "\n",
        "* Creates an AI agent using the tools and the LLM.\n",
        "* Agent Type: STRUCTURED_CHAT_ZERO_SHOT_REACT_DESCRIPTION → A\n",
        "  structured agent that follows a reasoning process before acting.\n",
        "* max_iterations=50 → Limits the agent to 50 steps per query."
      ],
      "metadata": {
        "id": "rbxWcAobsQUD"
      }
    },
    {
      "cell_type": "markdown",
      "source": [
        "# **Step 8**"
      ],
      "metadata": {
        "id": "PENQNLPBpYzP"
      }
    },
    {
      "cell_type": "code",
      "source": [
        "print(\"Welcome To Shehroz Hanif Coding World\")\n",
        "print(\"=\" * 40)\n",
        "print(\"I am a Calculator Agent, and I also have information about my Creator....\")\n",
        "\n",
        "while True:\n",
        "    user_query = input(\"Ask your query (type 'exit' or 'goodbye' to end): \").strip().lower()\n",
        "    print(f\"Human Message: {user_query}\")\n",
        "    print(\"=\" * 40)\n",
        "    if user_query in [\"exit\", \"i have to go\", \"goodbye\", \"please stop\", \"end\"]:\n",
        "        print(\"Agent Response: Goodbye! Thanks for your visit. Come again...\")\n",
        "        print(\"=\" * 40)\n",
        "        break\n",
        "    try:\n",
        "        # Adjust the input dictionary to match the expected key\n",
        "\n",
        "        response = agent.invoke({\"input\": user_query})  # 'input' key in lowercase\n",
        "        print(f\"Agent Response: {response.get('output', 'No output available')}\")  # Safely access the response output\n",
        "        print(\"=\" * 40)\n",
        "    except Exception as e:\n",
        "        print(f\"An error occurred: {e}\")\n"
      ],
      "metadata": {
        "colab": {
          "base_uri": "https://localhost:8080/"
        },
        "id": "Ja4ayL5e7u1S",
        "outputId": "a4ae1fac-87e4-47a9-b8f4-cb84cd99a36c"
      },
      "execution_count": null,
      "outputs": [
        {
          "output_type": "stream",
          "name": "stdout",
          "text": [
            "Welcome To Shehroz Hanif Coding World\n",
            "========================================\n",
            "I am a Calculator Agent, and I also have information about my Creator....\n",
            "Ask your query (type 'exit' or 'goodbye' to end): intro\n",
            "Human Message: intro\n",
            "========================================\n",
            "Tool Message:  Introduction Tool is Called!\n",
            "========================================\n",
            "Agent Response: Shehroz Hanif is a skilled web developer and programmer with a passion for creating dynamic, user-focused projects. Here is His Linkedin Profile: https://www.linkedin.com/in/shehroz-hanif-60441727a/ His portfolio features innovative Python projects and AI solutions, including a chatbot built with LangChain and Google Gemini LLM. He is exploring Agentic AI and intelligent agents, driving advancements in automation and artificial intelligence.\n",
            "========================================\n",
            "Ask your query (type 'exit' or 'goodbye' to end): creator\n",
            "Human Message: creator\n",
            "========================================\n",
            "Tool Message:  Developer Detailes Tool is Called!\n",
            "========================================\n",
            "Tool Message:  Introduction Tool is Called!\n",
            "========================================\n",
            "Agent Response: Shehroz Hanif is a skilled web developer and programmer with a passion for creating dynamic, user-focused projects. Here is His Linkedin Profile: https://www.linkedin.com/in/shehroz-hanif-60441727a/ His portfolio features innovative Python projects and AI solutions, including a chatbot built with LangChain and Google Gemini LLM. He is exploring Agentic AI and intelligent agents, driving advancements in automation and artificial intelligence.\n",
            "========================================\n",
            "Ask your query (type 'exit' or 'goodbye' to end): social media\n",
            "Human Message: social media\n",
            "========================================\n",
            "Tool Message:  Contact Detailes Tool is Called!\n",
            "========================================\n",
            "Agent Response: Here are Shehroz Hanif's social media accounts:\n",
            "\n",
            "LinkedIn: https://www.linkedin.com/in/shehroz-hanif-60441727a/\n",
            "GitHub: https://github.com/ShehrozHanif\n",
            "Instagram: https://www.instagram.com/the.realshehroz/\n",
            "Facebook Profile: https://www.facebook.com/muhammad.shehroz.357284\n",
            "Email Address: Shehrozhanif18@gmail.com\n",
            "Contact Number: 03062151026\n",
            "========================================\n",
            "Ask your query (type 'exit' or 'goodbye' to end): end\n",
            "Human Message: end\n",
            "========================================\n",
            "Agent Response: Goodbye! Thanks for your visit. Come again...\n",
            "========================================\n"
          ]
        }
      ]
    },
    {
      "cell_type": "markdown",
      "source": [
        "🔹 **What does this do?**\n",
        "\n",
        "* Greets the user and explains the chatbot’s purpose.\n",
        "* Starts a loop that continuously takes user input.\n",
        "* Checks for exit commands and stops if the user says \"exit\" or \"goodbye.\"\n",
        "* Uses agent.invoke({\"input\": user_query}) to process the query and return an answer."
      ],
      "metadata": {
        "id": "DhLaeAfash9r"
      }
    }
  ]
}